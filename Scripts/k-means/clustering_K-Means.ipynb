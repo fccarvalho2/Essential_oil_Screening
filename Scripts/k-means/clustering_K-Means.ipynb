{
 "cells": [
  {
   "cell_type": "markdown",
   "id": "e1e6ba9b",
   "metadata": {},
   "source": [
    "### Step 1: Reading and preparing input file"
   ]
  },
  {
   "cell_type": "code",
   "execution_count": null,
   "id": "cc1a9390",
   "metadata": {},
   "outputs": [],
   "source": [
    "scores_file = 'Rescoring/Scores.csv'\n",
    "\n",
    "df_vina = pd.read_csv('Sumario_VINA.csv',index_col=0)\n",
    "df_vina.sort_values(['Ligand', 'Receptor'],inplace=True)\n",
    "df_convex = pd.read_csv('Rescoring/Sumario_CONVEX.csv',index_col=0)\n",
    "df_convex.sort_values(['Ligand', 'Receptor'],inplace=True)\n",
    "df_convex[df_convex.columns[1:]] = df_convex[df_convex.columns[1:]].apply(pd.to_numeric)\n",
    "df_ad4 = pd.read_csv('Rescoring/Sumario_ad4scoring.csv',index_col=1)\n",
    "df_ad4 = df_ad4.drop(df_ad4.columns[0], axis=1)\n",
    "df_ad4.sort_values(['Ligand', 'Receptor'],inplace=True)\n",
    "df_ad4[df_ad4.columns[1:]] = df_ad4[df_ad4.columns[1:]].apply(pd.to_numeric)\n",
    "df_vinardo = pd.read_csv('Rescoring/Sumario_vinardo.csv',index_col=1)\n",
    "df_vinardo = df_vinardo.drop(df_vinardo.columns[0], axis=1)\n",
    "df_vinardo.sort_values(['Ligand', 'Receptor'],inplace=True)\n",
    "df_vinardo[df_vinardo.columns[1:]] = df_vinardo[df_vinardo.columns[1:]].apply(pd.to_numeric)\n",
    "df_dkoes = pd.read_csv('Rescoring/Sumario_dkoes.csv',index_col=1)\n",
    "df_dkoes = df_dkoes.drop(df_dkoes.columns[0], axis=1)\n",
    "df_dkoes.sort_values(['Ligand', 'Receptor'],inplace=True)\n",
    "df_dkoes[df_dkoes.columns[1:]] = df_dkoes[df_dkoes.columns[1:]].apply(pd.to_numeric)\n",
    "\n",
    "vina_names = []\n",
    "convex_names = []\n",
    "ad4_names = []\n",
    "vinardo_names = []\n",
    "dkoes_names = []\n",
    "\n",
    "vina_scores = []\n",
    "convex_scores = []\n",
    "ad4_scores = []\n",
    "vinardo_scores = []\n",
    "dkoes_scores = []\n",
    "\n",
    "n = 3\n",
    "for i in range(len(df_vina)):\n",
    "    for j in range(n):\n",
    "        vina_names.append(df_vina.index[i])\n",
    "        convex_names.append(df_convex.index[i])\n",
    "        ad4_names.append(df_ad4.index[i])\n",
    "        vinardo_names.append(df_vinardo.index[i])\n",
    "        dkoes_names.append(df_dkoes.index[i])\n",
    "    vina_scores.extend(list(sorted(df_vina.iloc[i][1:]))[:3])\n",
    "    convex_scores.extend(list(sorted(df_convex.iloc[i][1:]))[-3:])\n",
    "    ad4_scores.extend(list(sorted(df_ad4.iloc[i][1:]))[:3])\n",
    "    vinardo_scores.extend(list(sorted(df_vinardo.iloc[i][1:]))[:3])\n",
    "    dkoes_scores.extend(list(sorted(df_dkoes.iloc[i][1:]))[:3])\n",
    "     \n",
    "Scores = pd.DataFrame({'Ligand':vina_names, 'Vina':vina_scores, 'Convex':convex_scores, 'Ad4':ad4_scores, 'Vinardo':vinardo_scores, 'Dkoes':dkoes_scores})\n",
    "Scores = Scores.set_index('Ligand')\n",
    "Scores.to_csv(scores_file)\n",
    "Scores"
   ]
  },
  {
   "cell_type": "markdown",
   "id": "00bc87b2",
   "metadata": {},
   "source": [
    "### Step 2: Método Elbow Curve: Defeining number of Clusters"
   ]
  },
  {
   "cell_type": "code",
   "execution_count": null,
   "id": "1b6c9611",
   "metadata": {},
   "outputs": [],
   "source": [
    "pca = PCA()\n",
    "pca = pca.fit(Scores[['Vina','Convex','Ad4', 'Dkoes', 'Vinardo']])\n",
    "plt.plot(100-pca.explained_variance_)\n",
    "plt.grid()\n",
    "plt.show()"
   ]
  },
  {
   "cell_type": "markdown",
   "id": "13726499",
   "metadata": {},
   "source": [
    "### Step 3: Using K-Means to select top Hits ligands"
   ]
  },
  {
   "cell_type": "code",
   "execution_count": null,
   "id": "43e03a1a",
   "metadata": {},
   "outputs": [],
   "source": [
    "scores_file = 'Rescoring/Scores.csv'\n",
    "Scores = pd.read_csv(scores_file, index_col = 0)\n",
    "km = KMeans(n_clusters = 3)\n",
    "km_scores = km.fit_predict(Scores[['Vina','Convex','Ad4', 'Dkoes', 'Vinardo']])\n",
    "Scores['Cluster'] = km_scores\n",
    "\n",
    "#problematic = ['Decane','Sodium-dodecyl-sulfate', 'Berberine', '1-4-methylenetacrine', 'Velnacrine', 'Bis-tacrine', 'Bis-Acrilamida']\n",
    "types = []\n",
    "\n",
    "pos_dir = 'controles-positivos/'\n",
    "positives = []\n",
    "for l in os.listdir(pos_dir):\n",
    "    posName = l[:-5]\n",
    "    #if posName not in problematic:\n",
    "        #positives.append(posName)\n",
    "\n",
    "neg_dir = 'controles-negativos/'\n",
    "negatives = []\n",
    "for l in os.listdir(neg_dir):\n",
    "    negName = l[:-5]\n",
    "    #if negName not in problematic:\n",
    "        #negatives.append(negName)\n",
    "\n",
    "pp = Scores.loc[Scores.index.isin(positives)]\n",
    "nn = Scores.loc[Scores.index.isin(negatives)]\n",
    "#ss = Scores.loc[Scores.index.isin(problematic)]\n",
    "\n",
    "for i in range(len(Scores)):\n",
    "    if Scores.index[i] in positives:\n",
    "        types.append(0)\n",
    "    elif Scores.index[i] in negatives:\n",
    "        types.append(1)\n",
    "    else:\n",
    "        types.append(2)\n",
    "        \n",
    "Scores['Type'] = types\n",
    "#newScores = Scores.drop(problematic, axis=0)\n",
    "#km_2 = KMeans(n_clusters = 2)\n",
    "#km_scores2 = km_2.fit_predict(newScores[['Vina','Convex','Ad4', 'Dkoes', 'Vinardo']])\n",
    "#newScores['newClusters'] = km_scores2"
   ]
  },
  {
   "cell_type": "code",
   "execution_count": null,
   "id": "88dc2eec",
   "metadata": {},
   "outputs": [],
   "source": [
    "### Step 4: Plotting 3-D image of Cl"
   ]
  },
  {
   "cell_type": "code",
   "execution_count": null,
   "id": "6756bd33",
   "metadata": {},
   "outputs": [],
   "source": []
  }
 ],
 "metadata": {
  "kernelspec": {
   "display_name": "Python 3 (ipykernel)",
   "language": "python",
   "name": "python3"
  },
  "language_info": {
   "codemirror_mode": {
    "name": "ipython",
    "version": 3
   },
   "file_extension": ".py",
   "mimetype": "text/x-python",
   "name": "python",
   "nbconvert_exporter": "python",
   "pygments_lexer": "ipython3",
   "version": "3.8.5"
  }
 },
 "nbformat": 4,
 "nbformat_minor": 5
}
