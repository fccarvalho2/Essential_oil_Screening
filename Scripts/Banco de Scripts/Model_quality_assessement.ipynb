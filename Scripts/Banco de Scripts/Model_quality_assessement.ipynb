{
 "cells": [
  {
   "cell_type": "code",
   "execution_count": 1,
   "id": "c739fe9b",
   "metadata": {},
   "outputs": [],
   "source": [
    "import pandas as pd"
   ]
  },
  {
   "cell_type": "code",
   "execution_count": 2,
   "id": "61684a9a",
   "metadata": {},
   "outputs": [],
   "source": [
    "df1 = pd.read_csv('proq2-JHBP.csv')\n",
    "df2 = pd.read_csv('disorder-JHBP.csv')"
   ]
  },
  {
   "cell_type": "code",
   "execution_count": 3,
   "id": "3a90a9d2",
   "metadata": {},
   "outputs": [
    {
     "data": {
      "text/html": [
       "<div>\n",
       "<style scoped>\n",
       "    .dataframe tbody tr th:only-of-type {\n",
       "        vertical-align: middle;\n",
       "    }\n",
       "\n",
       "    .dataframe tbody tr th {\n",
       "        vertical-align: top;\n",
       "    }\n",
       "\n",
       "    .dataframe thead th {\n",
       "        text-align: right;\n",
       "    }\n",
       "</style>\n",
       "<table border=\"1\" class=\"dataframe\">\n",
       "  <thead>\n",
       "    <tr style=\"text-align: right;\">\n",
       "      <th></th>\n",
       "      <th>Residue_Number</th>\n",
       "      <th>Proq2_score(1=bad0=good)</th>\n",
       "      <th>color</th>\n",
       "    </tr>\n",
       "  </thead>\n",
       "  <tbody>\n",
       "    <tr>\n",
       "      <th>0</th>\n",
       "      <td>1</td>\n",
       "      <td>0.360</td>\n",
       "      <td>#4CFF68</td>\n",
       "    </tr>\n",
       "    <tr>\n",
       "      <th>1</th>\n",
       "      <td>2</td>\n",
       "      <td>0.272</td>\n",
       "      <td>#8DFF4C</td>\n",
       "    </tr>\n",
       "    <tr>\n",
       "      <th>2</th>\n",
       "      <td>3</td>\n",
       "      <td>0.233</td>\n",
       "      <td>#B7FF4C</td>\n",
       "    </tr>\n",
       "    <tr>\n",
       "      <th>3</th>\n",
       "      <td>4</td>\n",
       "      <td>0.268</td>\n",
       "      <td>#91FF4C</td>\n",
       "    </tr>\n",
       "    <tr>\n",
       "      <th>4</th>\n",
       "      <td>5</td>\n",
       "      <td>0.216</td>\n",
       "      <td>#CAFF4C</td>\n",
       "    </tr>\n",
       "    <tr>\n",
       "      <th>...</th>\n",
       "      <td>...</td>\n",
       "      <td>...</td>\n",
       "      <td>...</td>\n",
       "    </tr>\n",
       "    <tr>\n",
       "      <th>264</th>\n",
       "      <td>265</td>\n",
       "      <td>0.311</td>\n",
       "      <td>#64FF4C</td>\n",
       "    </tr>\n",
       "    <tr>\n",
       "      <th>265</th>\n",
       "      <td>266</td>\n",
       "      <td>0.355</td>\n",
       "      <td>#4CFF64</td>\n",
       "    </tr>\n",
       "    <tr>\n",
       "      <th>266</th>\n",
       "      <td>267</td>\n",
       "      <td>0.464</td>\n",
       "      <td>#4CFFD7</td>\n",
       "    </tr>\n",
       "    <tr>\n",
       "      <th>267</th>\n",
       "      <td>268</td>\n",
       "      <td>0.507</td>\n",
       "      <td>#4CF7FF</td>\n",
       "    </tr>\n",
       "    <tr>\n",
       "      <th>268</th>\n",
       "      <td>269</td>\n",
       "      <td>0.513</td>\n",
       "      <td>#4CF0FF</td>\n",
       "    </tr>\n",
       "  </tbody>\n",
       "</table>\n",
       "<p>269 rows × 3 columns</p>\n",
       "</div>"
      ],
      "text/plain": [
       "     Residue_Number  Proq2_score(1=bad0=good)    color\n",
       "0                 1                     0.360  #4CFF68\n",
       "1                 2                     0.272  #8DFF4C\n",
       "2                 3                     0.233  #B7FF4C\n",
       "3                 4                     0.268  #91FF4C\n",
       "4                 5                     0.216  #CAFF4C\n",
       "..              ...                       ...      ...\n",
       "264             265                     0.311  #64FF4C\n",
       "265             266                     0.355  #4CFF64\n",
       "266             267                     0.464  #4CFFD7\n",
       "267             268                     0.507  #4CF7FF\n",
       "268             269                     0.513  #4CF0FF\n",
       "\n",
       "[269 rows x 3 columns]"
      ]
     },
     "execution_count": 3,
     "metadata": {},
     "output_type": "execute_result"
    }
   ],
   "source": [
    "df1"
   ]
  },
  {
   "cell_type": "code",
   "execution_count": 4,
   "id": "8d63d33c",
   "metadata": {},
   "outputs": [
    {
     "data": {
      "text/html": [
       "<div>\n",
       "<style scoped>\n",
       "    .dataframe tbody tr th:only-of-type {\n",
       "        vertical-align: middle;\n",
       "    }\n",
       "\n",
       "    .dataframe tbody tr th {\n",
       "        vertical-align: top;\n",
       "    }\n",
       "\n",
       "    .dataframe thead th {\n",
       "        text-align: right;\n",
       "    }\n",
       "</style>\n",
       "<table border=\"1\" class=\"dataframe\">\n",
       "  <thead>\n",
       "    <tr style=\"text-align: right;\">\n",
       "      <th></th>\n",
       "      <th>Residue_Number</th>\n",
       "      <th>score(1=disorder0=order)</th>\n",
       "      <th>Color</th>\n",
       "    </tr>\n",
       "  </thead>\n",
       "  <tbody>\n",
       "    <tr>\n",
       "      <th>0</th>\n",
       "      <td>1</td>\n",
       "      <td>0.98</td>\n",
       "      <td>#FF5B4C</td>\n",
       "    </tr>\n",
       "    <tr>\n",
       "      <th>1</th>\n",
       "      <td>2</td>\n",
       "      <td>0.98</td>\n",
       "      <td>#FF5B4C</td>\n",
       "    </tr>\n",
       "    <tr>\n",
       "      <th>2</th>\n",
       "      <td>3</td>\n",
       "      <td>0.95</td>\n",
       "      <td>#FF714C</td>\n",
       "    </tr>\n",
       "    <tr>\n",
       "      <th>3</th>\n",
       "      <td>4</td>\n",
       "      <td>0.94</td>\n",
       "      <td>#FF794C</td>\n",
       "    </tr>\n",
       "    <tr>\n",
       "      <th>4</th>\n",
       "      <td>5</td>\n",
       "      <td>0.85</td>\n",
       "      <td>#FFBC4C</td>\n",
       "    </tr>\n",
       "    <tr>\n",
       "      <th>...</th>\n",
       "      <td>...</td>\n",
       "      <td>...</td>\n",
       "      <td>...</td>\n",
       "    </tr>\n",
       "    <tr>\n",
       "      <th>264</th>\n",
       "      <td>265</td>\n",
       "      <td>0.86</td>\n",
       "      <td>#FFB54C</td>\n",
       "    </tr>\n",
       "    <tr>\n",
       "      <th>265</th>\n",
       "      <td>266</td>\n",
       "      <td>0.93</td>\n",
       "      <td>#FF804C</td>\n",
       "    </tr>\n",
       "    <tr>\n",
       "      <th>266</th>\n",
       "      <td>267</td>\n",
       "      <td>0.97</td>\n",
       "      <td>#FF624C</td>\n",
       "    </tr>\n",
       "    <tr>\n",
       "      <th>267</th>\n",
       "      <td>268</td>\n",
       "      <td>0.98</td>\n",
       "      <td>#FF5B4C</td>\n",
       "    </tr>\n",
       "    <tr>\n",
       "      <th>268</th>\n",
       "      <td>269</td>\n",
       "      <td>0.99</td>\n",
       "      <td>#FF534C</td>\n",
       "    </tr>\n",
       "  </tbody>\n",
       "</table>\n",
       "<p>269 rows × 3 columns</p>\n",
       "</div>"
      ],
      "text/plain": [
       "     Residue_Number  score(1=disorder0=order)    Color\n",
       "0                 1                      0.98  #FF5B4C\n",
       "1                 2                      0.98  #FF5B4C\n",
       "2                 3                      0.95  #FF714C\n",
       "3                 4                      0.94  #FF794C\n",
       "4                 5                      0.85  #FFBC4C\n",
       "..              ...                       ...      ...\n",
       "264             265                      0.86  #FFB54C\n",
       "265             266                      0.93  #FF804C\n",
       "266             267                      0.97  #FF624C\n",
       "267             268                      0.98  #FF5B4C\n",
       "268             269                      0.99  #FF534C\n",
       "\n",
       "[269 rows x 3 columns]"
      ]
     },
     "execution_count": 4,
     "metadata": {},
     "output_type": "execute_result"
    }
   ],
   "source": [
    "df2"
   ]
  },
  {
   "cell_type": "code",
   "execution_count": 5,
   "id": "fa6c869b",
   "metadata": {},
   "outputs": [],
   "source": [
    "## Proq2 Score"
   ]
  },
  {
   "cell_type": "code",
   "execution_count": 6,
   "id": "49aec135",
   "metadata": {},
   "outputs": [
    {
     "data": {
      "text/plain": [
       "60.391"
      ]
     },
     "execution_count": 6,
     "metadata": {},
     "output_type": "execute_result"
    }
   ],
   "source": [
    "df1['Proq2_score(1=bad0=good)'].sum()"
   ]
  },
  {
   "cell_type": "code",
   "execution_count": 7,
   "id": "9dc34a07",
   "metadata": {},
   "outputs": [
    {
     "data": {
      "text/plain": [
       "0.22450185873605935"
      ]
     },
     "execution_count": 7,
     "metadata": {},
     "output_type": "execute_result"
    }
   ],
   "source": [
    "df1['Proq2_score(1=bad0=good)'].mean()"
   ]
  },
  {
   "cell_type": "code",
   "execution_count": 8,
   "id": "8bd60798",
   "metadata": {},
   "outputs": [
    {
     "data": {
      "text/plain": [
       "0.09851572435044771"
      ]
     },
     "execution_count": 8,
     "metadata": {},
     "output_type": "execute_result"
    }
   ],
   "source": [
    "df1['Proq2_score(1=bad0=good)'].std()"
   ]
  },
  {
   "cell_type": "code",
   "execution_count": 9,
   "id": "98c017aa",
   "metadata": {},
   "outputs": [],
   "source": [
    "import matplotlib.pyplot as plt\n",
    "import numpy as np"
   ]
  },
  {
   "cell_type": "code",
   "execution_count": 10,
   "id": "90ca1e81",
   "metadata": {},
   "outputs": [
    {
     "data": {
      "text/plain": [
       "[<matplotlib.lines.Line2D at 0x7f277f386250>]"
      ]
     },
     "execution_count": 10,
     "metadata": {},
     "output_type": "execute_result"
    },
    {
     "data": {
      "image/png": "[encoded data removed]",
      "text/plain": [
       "<Figure size 432x288 with 1 Axes>"
      ]
     },
     "metadata": {
      "needs_background": "light"
     },
     "output_type": "display_data"
    }
   ],
   "source": [
    "plt.plot(df1['Residue_Number'],df1['Proq2_score(1=bad0=good)'])"
   ]
  },
  {
   "cell_type": "code",
   "execution_count": 11,
   "id": "694f6ef7",
   "metadata": {},
   "outputs": [],
   "source": [
    "#Disorder"
   ]
  },
  {
   "cell_type": "code",
   "execution_count": 12,
   "id": "9ace35d8",
   "metadata": {},
   "outputs": [
    {
     "data": {
      "text/plain": [
       "98.92"
      ]
     },
     "execution_count": 12,
     "metadata": {},
     "output_type": "execute_result"
    }
   ],
   "source": [
    "df2['score(1=disorder0=order)'].sum()"
   ]
  },
  {
   "cell_type": "code",
   "execution_count": 13,
   "id": "f3df5cd2",
   "metadata": {},
   "outputs": [
    {
     "data": {
      "text/plain": [
       "0.36773234200743504"
      ]
     },
     "execution_count": 13,
     "metadata": {},
     "output_type": "execute_result"
    }
   ],
   "source": [
    "df2['score(1=disorder0=order)'].mean()"
   ]
  },
  {
   "cell_type": "code",
   "execution_count": 14,
   "id": "a0a882b0",
   "metadata": {},
   "outputs": [
    {
     "data": {
      "text/plain": [
       "0.26202509798200563"
      ]
     },
     "execution_count": 14,
     "metadata": {},
     "output_type": "execute_result"
    }
   ],
   "source": [
    "df2['score(1=disorder0=order)'].std()"
   ]
  },
  {
   "cell_type": "code",
   "execution_count": 15,
   "id": "45b11217",
   "metadata": {},
   "outputs": [
    {
     "data": {
      "text/plain": [
       "[<matplotlib.lines.Line2D at 0x7f277f22ab50>]"
      ]
     },
     "execution_count": 15,
     "metadata": {},
     "output_type": "execute_result"
    },
    {
     "data": {
      "image/png": "[encoded data removed]",
      "text/plain": [
       "<Figure size 432x288 with 1 Axes>"
      ]
     },
     "metadata": {
      "needs_background": "light"
     },
     "output_type": "display_data"
    }
   ],
   "source": [
    "plt.plot(df2['Residue_Number'],df2['score(1=disorder0=order)'])"
   ]
  },
  {
   "cell_type": "code",
   "execution_count": null,
   "id": "f281d8e0",
   "metadata": {},
   "outputs": [],
   "source": []
  }
 ],
 "metadata": {
  "kernelspec": {
   "display_name": "Python 3",
   "language": "python",
   "name": "python3"
  },
  "language_info": {
   "codemirror_mode": {
    "name": "ipython",
    "version": 3
   },
   "file_extension": ".py",
   "mimetype": "text/x-python",
   "name": "python",
   "nbconvert_exporter": "python",
   "pygments_lexer": "ipython3",
   "version": "3.7.11"
  }
 },
 "nbformat": 4,
 "nbformat_minor": 5
}
