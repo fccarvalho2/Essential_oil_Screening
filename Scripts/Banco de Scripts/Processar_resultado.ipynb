{
 "cells": [
  {
   "cell_type": "code",
   "execution_count": 1,
   "metadata": {},
   "outputs": [],
   "source": [
    "import pandas as pd\n",
    "\n",
    "def read_file(filename):\n",
    "    for line in open(filename):\n",
    "        yield line  "
   ]
  },
  {
   "cell_type": "code",
   "execution_count": 16,
   "metadata": {},
   "outputs": [],
   "source": [
    "names = [\"ZINC143807786\", \"ZINC165056935\", \"ZINC175245225\", \"ZINC195760538\", \"ZINC201364957\"]\n",
    "data = {\"Name\":[], \"Affinity1\":[], \"Affinity2\":[], \"Affinity3\":[]}\n",
    "for name in names:\n",
    "    filename = \"result\" + name + \"ache1.log\"\n",
    "    data[\"Name\"].append(name)\n",
    "    for line in read_file(filename):\n",
    "        if len(line)> 3:\n",
    "            if line[3] == \"1\":\n",
    "                l = line.split(\"      \")\n",
    "                data[\"Affinity1\"].append(float(l[1]))\n",
    "                \n",
    "            elif line[3] == \"2\":\n",
    "                l = line.split(\"      \")\n",
    "                data[\"Affinity2\"].append(float(l[1]))\n",
    "                \n",
    "            elif line[3] == \"3\":\n",
    "                l = line.split(\"      \")\n",
    "                data[\"Affinity3\"].append(float(l[1]))"
   ]
  },
  {
   "cell_type": "code",
   "execution_count": 19,
   "metadata": {},
   "outputs": [
    {
     "data": {
      "text/html": [
       "<div>\n",
       "<style scoped>\n",
       "    .dataframe tbody tr th:only-of-type {\n",
       "        vertical-align: middle;\n",
       "    }\n",
       "\n",
       "    .dataframe tbody tr th {\n",
       "        vertical-align: top;\n",
       "    }\n",
       "\n",
       "    .dataframe thead th {\n",
       "        text-align: right;\n",
       "    }\n",
       "</style>\n",
       "<table border=\"1\" class=\"dataframe\">\n",
       "  <thead>\n",
       "    <tr style=\"text-align: right;\">\n",
       "      <th></th>\n",
       "      <th>Affinity1</th>\n",
       "      <th>Affinity2</th>\n",
       "      <th>Affinity3</th>\n",
       "    </tr>\n",
       "    <tr>\n",
       "      <th>Name</th>\n",
       "      <th></th>\n",
       "      <th></th>\n",
       "      <th></th>\n",
       "    </tr>\n",
       "  </thead>\n",
       "  <tbody>\n",
       "    <tr>\n",
       "      <th>ZINC143807786</th>\n",
       "      <td>-7.6</td>\n",
       "      <td>-7.5</td>\n",
       "      <td>-7.4</td>\n",
       "    </tr>\n",
       "    <tr>\n",
       "      <th>ZINC165056935</th>\n",
       "      <td>-6.2</td>\n",
       "      <td>-6.0</td>\n",
       "      <td>-6.0</td>\n",
       "    </tr>\n",
       "    <tr>\n",
       "      <th>ZINC175245225</th>\n",
       "      <td>-6.3</td>\n",
       "      <td>-6.2</td>\n",
       "      <td>-6.2</td>\n",
       "    </tr>\n",
       "    <tr>\n",
       "      <th>ZINC195760538</th>\n",
       "      <td>-6.7</td>\n",
       "      <td>-6.5</td>\n",
       "      <td>-6.5</td>\n",
       "    </tr>\n",
       "    <tr>\n",
       "      <th>ZINC201364957</th>\n",
       "      <td>-6.4</td>\n",
       "      <td>-6.0</td>\n",
       "      <td>-6.0</td>\n",
       "    </tr>\n",
       "  </tbody>\n",
       "</table>\n",
       "</div>"
      ],
      "text/plain": [
       "               Affinity1  Affinity2  Affinity3\n",
       "Name                                          \n",
       "ZINC143807786       -7.6       -7.5       -7.4\n",
       "ZINC165056935       -6.2       -6.0       -6.0\n",
       "ZINC175245225       -6.3       -6.2       -6.2\n",
       "ZINC195760538       -6.7       -6.5       -6.5\n",
       "ZINC201364957       -6.4       -6.0       -6.0"
      ]
     },
     "execution_count": 19,
     "metadata": {},
     "output_type": "execute_result"
    }
   ],
   "source": [
    "df = pd.DataFrame(data)\n",
    "df = df.set_index(\"Name\", drop=True)\n",
    "df"
   ]
  },
  {
   "cell_type": "code",
   "execution_count": null,
   "metadata": {},
   "outputs": [],
   "source": [
    "df.to_csv(\"Results.csv\")"
   ]
  }
 ],
 "metadata": {
  "kernelspec": {
   "display_name": "Python 3",
   "language": "python",
   "name": "python3"
  },
  "language_info": {
   "codemirror_mode": {
    "name": "ipython",
    "version": 3
   },
   "file_extension": ".py",
   "mimetype": "text/x-python",
   "name": "python",
   "nbconvert_exporter": "python",
   "pygments_lexer": "ipython3",
   "version": "3.8.5"
  }
 },
 "nbformat": 4,
 "nbformat_minor": 4
}
