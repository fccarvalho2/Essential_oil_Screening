{
 "cells": [
  {
   "cell_type": "code",
   "execution_count": 1,
   "metadata": {},
   "outputs": [],
   "source": [
    "import sys\n",
    "import io\n",
    "import pandas as pd\n",
    "import pymol"
   ]
  },
  {
   "cell_type": "markdown",
   "metadata": {},
   "source": [
    "# Rescoring com a função ad4scoring"
   ]
  },
  {
   "cell_type": "code",
   "execution_count": 25,
   "metadata": {},
   "outputs": [
    {
     "ename": "ValueError",
     "evalue": "Shape of passed values is (11, 1), indices imply (4, 1)",
     "output_type": "error",
     "traceback": [
      "\u001b[0;31m---------------------------------------------------------------------------\u001b[0m",
      "\u001b[0;31mValueError\u001b[0m                                Traceback (most recent call last)",
      "\u001b[0;32m~/anaconda3/lib/python3.7/site-packages/pandas/core/internals/managers.py\u001b[0m in \u001b[0;36mcreate_block_manager_from_blocks\u001b[0;34m(blocks, axes)\u001b[0m\n\u001b[1;32m   1656\u001b[0m \u001b[0;34m\u001b[0m\u001b[0m\n\u001b[0;32m-> 1657\u001b[0;31m         \u001b[0mmgr\u001b[0m \u001b[0;34m=\u001b[0m \u001b[0mBlockManager\u001b[0m\u001b[0;34m(\u001b[0m\u001b[0mblocks\u001b[0m\u001b[0;34m,\u001b[0m \u001b[0maxes\u001b[0m\u001b[0;34m)\u001b[0m\u001b[0;34m\u001b[0m\u001b[0;34m\u001b[0m\u001b[0m\n\u001b[0m\u001b[1;32m   1658\u001b[0m         \u001b[0mmgr\u001b[0m\u001b[0;34m.\u001b[0m\u001b[0m_consolidate_inplace\u001b[0m\u001b[0;34m(\u001b[0m\u001b[0;34m)\u001b[0m\u001b[0;34m\u001b[0m\u001b[0;34m\u001b[0m\u001b[0m\n",
      "\u001b[0;32m~/anaconda3/lib/python3.7/site-packages/pandas/core/internals/managers.py\u001b[0m in \u001b[0;36m__init__\u001b[0;34m(self, blocks, axes, do_integrity_check)\u001b[0m\n\u001b[1;32m    138\u001b[0m         \u001b[0;32mif\u001b[0m \u001b[0mdo_integrity_check\u001b[0m\u001b[0;34m:\u001b[0m\u001b[0;34m\u001b[0m\u001b[0;34m\u001b[0m\u001b[0m\n\u001b[0;32m--> 139\u001b[0;31m             \u001b[0mself\u001b[0m\u001b[0;34m.\u001b[0m\u001b[0m_verify_integrity\u001b[0m\u001b[0;34m(\u001b[0m\u001b[0;34m)\u001b[0m\u001b[0;34m\u001b[0m\u001b[0;34m\u001b[0m\u001b[0m\n\u001b[0m\u001b[1;32m    140\u001b[0m \u001b[0;34m\u001b[0m\u001b[0m\n",
      "\u001b[0;32m~/anaconda3/lib/python3.7/site-packages/pandas/core/internals/managers.py\u001b[0m in \u001b[0;36m_verify_integrity\u001b[0;34m(self)\u001b[0m\n\u001b[1;32m    333\u001b[0m             \u001b[0;32mif\u001b[0m \u001b[0mblock\u001b[0m\u001b[0;34m.\u001b[0m\u001b[0m_verify_integrity\u001b[0m \u001b[0;32mand\u001b[0m \u001b[0mblock\u001b[0m\u001b[0;34m.\u001b[0m\u001b[0mshape\u001b[0m\u001b[0;34m[\u001b[0m\u001b[0;36m1\u001b[0m\u001b[0;34m:\u001b[0m\u001b[0;34m]\u001b[0m \u001b[0;34m!=\u001b[0m \u001b[0mmgr_shape\u001b[0m\u001b[0;34m[\u001b[0m\u001b[0;36m1\u001b[0m\u001b[0;34m:\u001b[0m\u001b[0;34m]\u001b[0m\u001b[0;34m:\u001b[0m\u001b[0;34m\u001b[0m\u001b[0;34m\u001b[0m\u001b[0m\n\u001b[0;32m--> 334\u001b[0;31m                 \u001b[0mconstruction_error\u001b[0m\u001b[0;34m(\u001b[0m\u001b[0mtot_items\u001b[0m\u001b[0;34m,\u001b[0m \u001b[0mblock\u001b[0m\u001b[0;34m.\u001b[0m\u001b[0mshape\u001b[0m\u001b[0;34m[\u001b[0m\u001b[0;36m1\u001b[0m\u001b[0;34m:\u001b[0m\u001b[0;34m]\u001b[0m\u001b[0;34m,\u001b[0m \u001b[0mself\u001b[0m\u001b[0;34m.\u001b[0m\u001b[0maxes\u001b[0m\u001b[0;34m)\u001b[0m\u001b[0;34m\u001b[0m\u001b[0;34m\u001b[0m\u001b[0m\n\u001b[0m\u001b[1;32m    335\u001b[0m         \u001b[0;32mif\u001b[0m \u001b[0mlen\u001b[0m\u001b[0;34m(\u001b[0m\u001b[0mself\u001b[0m\u001b[0;34m.\u001b[0m\u001b[0mitems\u001b[0m\u001b[0;34m)\u001b[0m \u001b[0;34m!=\u001b[0m \u001b[0mtot_items\u001b[0m\u001b[0;34m:\u001b[0m\u001b[0;34m\u001b[0m\u001b[0;34m\u001b[0m\u001b[0m\n",
      "\u001b[0;32m~/anaconda3/lib/python3.7/site-packages/pandas/core/internals/managers.py\u001b[0m in \u001b[0;36mconstruction_error\u001b[0;34m(tot_items, block_shape, axes, e)\u001b[0m\n\u001b[1;32m   1693\u001b[0m         \u001b[0;32mraise\u001b[0m \u001b[0mValueError\u001b[0m\u001b[0;34m(\u001b[0m\u001b[0;34m\"Empty data passed with indices specified.\"\u001b[0m\u001b[0;34m)\u001b[0m\u001b[0;34m\u001b[0m\u001b[0;34m\u001b[0m\u001b[0m\n\u001b[0;32m-> 1694\u001b[0;31m     \u001b[0;32mraise\u001b[0m \u001b[0mValueError\u001b[0m\u001b[0;34m(\u001b[0m\u001b[0;34mf\"Shape of passed values is {passed}, indices imply {implied}\"\u001b[0m\u001b[0;34m)\u001b[0m\u001b[0;34m\u001b[0m\u001b[0;34m\u001b[0m\u001b[0m\n\u001b[0m\u001b[1;32m   1695\u001b[0m \u001b[0;34m\u001b[0m\u001b[0m\n",
      "\u001b[0;31mValueError\u001b[0m: Shape of passed values is (11, 1), indices imply (4, 1)",
      "\nDuring handling of the above exception, another exception occurred:\n",
      "\u001b[0;31mValueError\u001b[0m                                Traceback (most recent call last)",
      "\u001b[0;32m<ipython-input-25-602e7ff30576>\u001b[0m in \u001b[0;36m<module>\u001b[0;34m\u001b[0m\n\u001b[1;32m     46\u001b[0m         \u001b[0;32mif\u001b[0m \u001b[0mp\u001b[0m\u001b[0;34m[\u001b[0m\u001b[0;36m0\u001b[0m\u001b[0;34m]\u001b[0m\u001b[0;34m.\u001b[0m\u001b[0misdigit\u001b[0m\u001b[0;34m(\u001b[0m\u001b[0;34m)\u001b[0m \u001b[0;32mor\u001b[0m \u001b[0mp\u001b[0m\u001b[0;34m[\u001b[0m\u001b[0;36m0\u001b[0m\u001b[0;34m]\u001b[0m\u001b[0;34m==\u001b[0m\u001b[0;34m'-'\u001b[0m\u001b[0;34m:\u001b[0m\u001b[0;34m\u001b[0m\u001b[0;34m\u001b[0m\u001b[0m\n\u001b[1;32m     47\u001b[0m             \u001b[0mafinidades\u001b[0m\u001b[0;34m.\u001b[0m\u001b[0mappend\u001b[0m\u001b[0;34m(\u001b[0m\u001b[0mfloat\u001b[0m\u001b[0;34m(\u001b[0m\u001b[0mp\u001b[0m\u001b[0;34m.\u001b[0m\u001b[0msplit\u001b[0m\u001b[0;34m(\u001b[0m\u001b[0;34m\"(kcal\"\u001b[0m\u001b[0;34m)\u001b[0m\u001b[0;34m[\u001b[0m\u001b[0;36m0\u001b[0m\u001b[0;34m]\u001b[0m\u001b[0;34m)\u001b[0m\u001b[0;34m)\u001b[0m\u001b[0;34m\u001b[0m\u001b[0;34m\u001b[0m\u001b[0m\n\u001b[0;32m---> 48\u001b[0;31m     \u001b[0mlinha\u001b[0m \u001b[0;34m=\u001b[0m \u001b[0mpd\u001b[0m\u001b[0;34m.\u001b[0m\u001b[0mDataFrame\u001b[0m\u001b[0;34m(\u001b[0m\u001b[0mafinidades\u001b[0m\u001b[0;34m,\u001b[0m\u001b[0mindex\u001b[0m \u001b[0;34m=\u001b[0m \u001b[0mcolunas\u001b[0m\u001b[0;34m)\u001b[0m\u001b[0;34m.\u001b[0m\u001b[0mtranspose\u001b[0m\u001b[0;34m(\u001b[0m\u001b[0;34m)\u001b[0m\u001b[0;34m\u001b[0m\u001b[0;34m\u001b[0m\u001b[0m\n\u001b[0m\u001b[1;32m     49\u001b[0m     \u001b[0msumario\u001b[0m \u001b[0;34m=\u001b[0m \u001b[0msumario\u001b[0m\u001b[0;34m.\u001b[0m\u001b[0mappend\u001b[0m\u001b[0;34m(\u001b[0m\u001b[0mlinha\u001b[0m\u001b[0;34m)\u001b[0m\u001b[0;34m\u001b[0m\u001b[0;34m\u001b[0m\u001b[0m\n\u001b[1;32m     50\u001b[0m     \u001b[0msys\u001b[0m\u001b[0;34m.\u001b[0m\u001b[0mstdout\u001b[0m \u001b[0;34m=\u001b[0m \u001b[0mold_stdout\u001b[0m\u001b[0;34m\u001b[0m\u001b[0;34m\u001b[0m\u001b[0m\n",
      "\u001b[0;32m~/anaconda3/lib/python3.7/site-packages/pandas/core/frame.py\u001b[0m in \u001b[0;36m__init__\u001b[0;34m(self, data, index, columns, dtype, copy)\u001b[0m\n\u001b[1;32m    486\u001b[0m                     \u001b[0mmgr\u001b[0m \u001b[0;34m=\u001b[0m \u001b[0marrays_to_mgr\u001b[0m\u001b[0;34m(\u001b[0m\u001b[0marrays\u001b[0m\u001b[0;34m,\u001b[0m \u001b[0mcolumns\u001b[0m\u001b[0;34m,\u001b[0m \u001b[0mindex\u001b[0m\u001b[0;34m,\u001b[0m \u001b[0mcolumns\u001b[0m\u001b[0;34m,\u001b[0m \u001b[0mdtype\u001b[0m\u001b[0;34m=\u001b[0m\u001b[0mdtype\u001b[0m\u001b[0;34m)\u001b[0m\u001b[0;34m\u001b[0m\u001b[0;34m\u001b[0m\u001b[0m\n\u001b[1;32m    487\u001b[0m                 \u001b[0;32melse\u001b[0m\u001b[0;34m:\u001b[0m\u001b[0;34m\u001b[0m\u001b[0;34m\u001b[0m\u001b[0m\n\u001b[0;32m--> 488\u001b[0;31m                     \u001b[0mmgr\u001b[0m \u001b[0;34m=\u001b[0m \u001b[0minit_ndarray\u001b[0m\u001b[0;34m(\u001b[0m\u001b[0mdata\u001b[0m\u001b[0;34m,\u001b[0m \u001b[0mindex\u001b[0m\u001b[0;34m,\u001b[0m \u001b[0mcolumns\u001b[0m\u001b[0;34m,\u001b[0m \u001b[0mdtype\u001b[0m\u001b[0;34m=\u001b[0m\u001b[0mdtype\u001b[0m\u001b[0;34m,\u001b[0m \u001b[0mcopy\u001b[0m\u001b[0;34m=\u001b[0m\u001b[0mcopy\u001b[0m\u001b[0;34m)\u001b[0m\u001b[0;34m\u001b[0m\u001b[0;34m\u001b[0m\u001b[0m\n\u001b[0m\u001b[1;32m    489\u001b[0m             \u001b[0;32melse\u001b[0m\u001b[0;34m:\u001b[0m\u001b[0;34m\u001b[0m\u001b[0;34m\u001b[0m\u001b[0m\n\u001b[1;32m    490\u001b[0m                 \u001b[0mmgr\u001b[0m \u001b[0;34m=\u001b[0m \u001b[0minit_dict\u001b[0m\u001b[0;34m(\u001b[0m\u001b[0;34m{\u001b[0m\u001b[0;34m}\u001b[0m\u001b[0;34m,\u001b[0m \u001b[0mindex\u001b[0m\u001b[0;34m,\u001b[0m \u001b[0mcolumns\u001b[0m\u001b[0;34m,\u001b[0m \u001b[0mdtype\u001b[0m\u001b[0;34m=\u001b[0m\u001b[0mdtype\u001b[0m\u001b[0;34m)\u001b[0m\u001b[0;34m\u001b[0m\u001b[0;34m\u001b[0m\u001b[0m\n",
      "\u001b[0;32m~/anaconda3/lib/python3.7/site-packages/pandas/core/internals/construction.py\u001b[0m in \u001b[0;36minit_ndarray\u001b[0;34m(values, index, columns, dtype, copy)\u001b[0m\n\u001b[1;32m    208\u001b[0m         \u001b[0mblock_values\u001b[0m \u001b[0;34m=\u001b[0m \u001b[0;34m[\u001b[0m\u001b[0mvalues\u001b[0m\u001b[0;34m]\u001b[0m\u001b[0;34m\u001b[0m\u001b[0;34m\u001b[0m\u001b[0m\n\u001b[1;32m    209\u001b[0m \u001b[0;34m\u001b[0m\u001b[0m\n\u001b[0;32m--> 210\u001b[0;31m     \u001b[0;32mreturn\u001b[0m \u001b[0mcreate_block_manager_from_blocks\u001b[0m\u001b[0;34m(\u001b[0m\u001b[0mblock_values\u001b[0m\u001b[0;34m,\u001b[0m \u001b[0;34m[\u001b[0m\u001b[0mcolumns\u001b[0m\u001b[0;34m,\u001b[0m \u001b[0mindex\u001b[0m\u001b[0;34m]\u001b[0m\u001b[0;34m)\u001b[0m\u001b[0;34m\u001b[0m\u001b[0;34m\u001b[0m\u001b[0m\n\u001b[0m\u001b[1;32m    211\u001b[0m \u001b[0;34m\u001b[0m\u001b[0m\n\u001b[1;32m    212\u001b[0m \u001b[0;34m\u001b[0m\u001b[0m\n",
      "\u001b[0;32m~/anaconda3/lib/python3.7/site-packages/pandas/core/internals/managers.py\u001b[0m in \u001b[0;36mcreate_block_manager_from_blocks\u001b[0;34m(blocks, axes)\u001b[0m\n\u001b[1;32m   1662\u001b[0m         \u001b[0mblocks\u001b[0m \u001b[0;34m=\u001b[0m \u001b[0;34m[\u001b[0m\u001b[0mgetattr\u001b[0m\u001b[0;34m(\u001b[0m\u001b[0mb\u001b[0m\u001b[0;34m,\u001b[0m \u001b[0;34m\"values\"\u001b[0m\u001b[0;34m,\u001b[0m \u001b[0mb\u001b[0m\u001b[0;34m)\u001b[0m \u001b[0;32mfor\u001b[0m \u001b[0mb\u001b[0m \u001b[0;32min\u001b[0m \u001b[0mblocks\u001b[0m\u001b[0;34m]\u001b[0m\u001b[0;34m\u001b[0m\u001b[0;34m\u001b[0m\u001b[0m\n\u001b[1;32m   1663\u001b[0m         \u001b[0mtot_items\u001b[0m \u001b[0;34m=\u001b[0m \u001b[0msum\u001b[0m\u001b[0;34m(\u001b[0m\u001b[0mb\u001b[0m\u001b[0;34m.\u001b[0m\u001b[0mshape\u001b[0m\u001b[0;34m[\u001b[0m\u001b[0;36m0\u001b[0m\u001b[0;34m]\u001b[0m \u001b[0;32mfor\u001b[0m \u001b[0mb\u001b[0m \u001b[0;32min\u001b[0m \u001b[0mblocks\u001b[0m\u001b[0;34m)\u001b[0m\u001b[0;34m\u001b[0m\u001b[0;34m\u001b[0m\u001b[0m\n\u001b[0;32m-> 1664\u001b[0;31m         \u001b[0mconstruction_error\u001b[0m\u001b[0;34m(\u001b[0m\u001b[0mtot_items\u001b[0m\u001b[0;34m,\u001b[0m \u001b[0mblocks\u001b[0m\u001b[0;34m[\u001b[0m\u001b[0;36m0\u001b[0m\u001b[0;34m]\u001b[0m\u001b[0;34m.\u001b[0m\u001b[0mshape\u001b[0m\u001b[0;34m[\u001b[0m\u001b[0;36m1\u001b[0m\u001b[0;34m:\u001b[0m\u001b[0;34m]\u001b[0m\u001b[0;34m,\u001b[0m \u001b[0maxes\u001b[0m\u001b[0;34m,\u001b[0m \u001b[0me\u001b[0m\u001b[0;34m)\u001b[0m\u001b[0;34m\u001b[0m\u001b[0;34m\u001b[0m\u001b[0m\n\u001b[0m\u001b[1;32m   1665\u001b[0m \u001b[0;34m\u001b[0m\u001b[0m\n\u001b[1;32m   1666\u001b[0m \u001b[0;34m\u001b[0m\u001b[0m\n",
      "\u001b[0;32m~/anaconda3/lib/python3.7/site-packages/pandas/core/internals/managers.py\u001b[0m in \u001b[0;36mconstruction_error\u001b[0;34m(tot_items, block_shape, axes, e)\u001b[0m\n\u001b[1;32m   1692\u001b[0m     \u001b[0;32mif\u001b[0m \u001b[0mblock_shape\u001b[0m\u001b[0;34m[\u001b[0m\u001b[0;36m0\u001b[0m\u001b[0;34m]\u001b[0m \u001b[0;34m==\u001b[0m \u001b[0;36m0\u001b[0m\u001b[0;34m:\u001b[0m\u001b[0;34m\u001b[0m\u001b[0;34m\u001b[0m\u001b[0m\n\u001b[1;32m   1693\u001b[0m         \u001b[0;32mraise\u001b[0m \u001b[0mValueError\u001b[0m\u001b[0;34m(\u001b[0m\u001b[0;34m\"Empty data passed with indices specified.\"\u001b[0m\u001b[0;34m)\u001b[0m\u001b[0;34m\u001b[0m\u001b[0;34m\u001b[0m\u001b[0m\n\u001b[0;32m-> 1694\u001b[0;31m     \u001b[0;32mraise\u001b[0m \u001b[0mValueError\u001b[0m\u001b[0;34m(\u001b[0m\u001b[0;34mf\"Shape of passed values is {passed}, indices imply {implied}\"\u001b[0m\u001b[0;34m)\u001b[0m\u001b[0;34m\u001b[0m\u001b[0;34m\u001b[0m\u001b[0m\n\u001b[0m\u001b[1;32m   1695\u001b[0m \u001b[0;34m\u001b[0m\u001b[0m\n\u001b[1;32m   1696\u001b[0m \u001b[0;34m\u001b[0m\u001b[0m\n",
      "\u001b[0;31mValueError\u001b[0m: Shape of passed values is (11, 1), indices imply (4, 1)"
     ]
    }
   ],
   "source": [
    "ligantes = [\"Carazolol\",\"Epinastine\",\"Mianserin\",\"Maroxepin\",\"Phentolamine\",\"Promethazine\",\"Glucose\",\"Hexane\",\n",
    "            \"Benzene\",\"Phenol\",\"Ligand1\",\"Ligand2\",\"Ligand3\",\"Ligand4\",\"Ligand5\",\"Ligand6\",\"Ligand7\",\"Ligand8\",\n",
    "            \"Ligand9\",\"Ligand10\",\"Ligand11\",\"Ligand12\",\"Ligand13\",\"Ligand14\",\"Ligand15\",\"Ligand16\",\"Ligand17\",\n",
    "            \"Ligand18\",\"Ligand19a\",\"Ligand19b\",\"Ligand19d\",\"Ligand19g\",\"Ligand20\",\"Ligand21\",\"Ligand22\",\n",
    "            \"Ligand23a\",\"Ligand24\",\"Ligand25\",\"Ligand26\",\"Ligand27\",\"Ligand28\",\"Ligand29\",\"Ligand30\",\"ZINC967513\",\n",
    "            \"ZINC1531550\",\"ZINC8234282\",\"ZINC30730221\",\"ZINC100086523\",\"ZINC2019619\",\"ZINC968230\",\"ZINC85644544\",\n",
    "            \"ZINC86034080\",\"ZINC968225\",\"ZINC59778864\",\"ZINC62237753\",\"ZINC968468\",\"ZINC70454368\",\"ZINC100780735\",\n",
    "            \"ZINC59778570\",\"ZINC64624831\",\"ZINC1648304\",\"ZINC15121415\",\"ZINC409176\",\"ZINC490\",\"ZINC175245225\",\n",
    "            \"ZINC2169363\",\"ZINC1530331\",\"ZINC57988166\",\"ZINC59200506\",\"ZINC38139375\",\"ZINC13380906\",\"ZINC57989172\",\n",
    "            \"ZINC8220462\",\"ZINC4081998\",\"ZINC5767672\",\"ZINC141973482\",\"ZINC85599405\",\"ZINC1851022\",\"ZINC967583\",\n",
    "            \"ZINC3861087\",\"ZINC1686990\",\"ZINC100782219\",\"ZINC388674\",\"ZINC13429400\",\"ZINC968099\",\"ZINC59587780\",\n",
    "            \"ZINC15120743\",\"ZINC1531610\",\"ZINC967594\",\"ZINC1411\",\"ZINC70451264\",\"ZINC85880213\",\"ZINC64634151\",\n",
    "            \"ZINC32142970\",\"ZINC100199761\",\"ZINC90734947\",\"ZINC201364957\",\"ZINC1531601\",\"ZINC1529208\",\n",
    "            \"ZINC100028042\",\"ZINC100155602\",\"ZINC142456176\",\"ZINC1531621\",\"ZINC1531619\",\"ZINC1529819\",\n",
    "            \"ZINC56874358\",\"ZINC59206468\",\"ZINC1846611\",\"ZINC83260318\",\"ZINC58257\",\"ZINC8234296\",\"ZINC85664165\",\n",
    "            \"ZINC100232131\",\"ZINC70454426\",\"ZINC32166631\",\"ZINC896628\",\"ZINC2600024\",\"ZINC137919391\",\n",
    "            \"ZINC111473060\",\"ZINC195760538\",\"ZINC165056935\",\"ZINC348140\",\"ZINC32176608\",\"ZINC33841709\",\n",
    "            \"ZINC2010172\",\"ZINC96334604\",\"ZINC85867164\",\"ZINC5158152\",\"ZINC85644689\",\"ZINC230878335\",\"ZINC32217531\",\n",
    "            \"ZINC143807786\",\"ZINC1850881\",\"ZINC1531600\",\"ZINC4102279\",\"ZINC136696735\",\"ZINC968030\",\"ZINC59200507\",\n",
    "            \"ZINC59778978\",\"ZINC2035755\",\"ZINC59587245\",\"ZINC1699438\",\"ZINC1699439\",\"ZINC968246\",\"ZINC968250\",\n",
    "            \"ZINC967593\",\"ZINC967520\",\"ZINC967800\",\"ZINC14588455\",\"ZINC4098372\",\"ZINC12153091\",\"ZINC2508248\",\n",
    "            \"ZINC968287\",\"ZINC967511\",\"ZINC2559334\",\"ZINC968028\",\"ZINC967597\",\"ZINC4262096\",\"ZINC967599\",\n",
    "            \"ZINC967601\",\"ZINC4410593\",\"ZINC967816\",\"ZINC100075761\",\"ZINC59586886\",\"ZINC30731544\",\"ZINC238399989\",\n",
    "            \"ZINC968471\",\"ZINC2018831\",\"ZINC2083320\",\"ZINC4098262\",\"ZINC1996067\",\"ZINC6071066\",\"ZINC12358735\",\n",
    "            \"ZINC12358780\",\"ZINC967635\",\"ZINC1676040\",\"ZINC5158074\",\"ZINC1529247\",\"ZINC2512204\",\"ZINC1653216\"]\n",
    "\n",
    "dic = {'ligante':[],'afinidade1':[],'afinidade2':[],'afinidade3':[]}\n",
    "colunas = ['ligante','afinidade1','afinidade2','afinidade3']\n",
    "sumario = pd.DataFrame(dic)\n",
    "\n",
    "for l in ligantes:\n",
    "    old_stdout = sys.stdout\n",
    "    new_stdout = io.StringIO()\n",
    "    sys.stdout = new_stdout\n",
    "    nome = 'inputs/out'+l+'Oamb1antago.pdbqt'\n",
    "    origem = 'SDF/'+l+'.sdf'\n",
    "    destino = 'output_ad4scoring/'+l+'.sdf'\n",
    "    pymol.cmd.load(nome)\n",
    "    pymol.cmd.save(origem, state = 0, format = 'sdf')\n",
    "    pymol.cmd.reinitialize()\n",
    "    afinidades = [l]\n",
    "    !'./smina.static' -r Oamb1antago.pdb -l '{origem}' -o '{destino}' --seed 0 --score_only --scoring ad4_scoring\n",
    "    output = new_stdout.getvalue()\n",
    "    o = output.split(\"Affinity: \")\n",
    "    for p in o:\n",
    "        if p[0].isdigit() or p[0]=='-':\n",
    "            afinidades.append(float(p.split(\"(kcal\")[0]))\n",
    "    linha = pd.DataFrame(afinidades,index = colunas).transpose()\n",
    "    sumario = sumario.append(linha)\n",
    "    sys.stdout = old_stdout\n",
    "sumario.to_csv('Oamb1antago-ad4_scoring.csv')"
   ]
  },
  {
   "cell_type": "code",
   "execution_count": 37,
   "metadata": {},
   "outputs": [],
   "source": [
    "#teste = afinidades[:1].extend(sorted(afinidades[1:])[0:3])\n",
    "teste = afinidades[:1]\n",
    "teste.extend(sorted(afinidades[1:4]))"
   ]
  },
  {
   "cell_type": "code",
   "execution_count": 40,
   "metadata": {},
   "outputs": [],
   "source": [
    "a = ['Carazolol',\n",
    " -40.27739,\n",
    " -34.21932,\n",
    " -34.17636,\n",
    " -26.44775,\n",
    " -20.87378,\n",
    " -24.17637,\n",
    " -10.05796,\n",
    " -31.51958,\n",
    " -23.78783,\n",
    " -32.61979]"
   ]
  },
  {
   "cell_type": "code",
   "execution_count": 42,
   "metadata": {},
   "outputs": [],
   "source": [
    "teste = a[:1]\n",
    "teste.extend(sorted(a[1:4]))\n",
    "print(teste)"
   ]
  },
  {
   "cell_type": "markdown",
   "metadata": {},
   "source": [
    "# Rescoring com a função Vinardo"
   ]
  },
  {
   "cell_type": "code",
   "execution_count": 3,
   "metadata": {},
   "outputs": [],
   "source": [
    "dic = {'ligante':[],'afinidade1':[],'afinidade2':[],'afinidade3':[],'afinidade4':[],'afinidade5':[],'afinidade6':[],\n",
    "      'afinidade7':[],'afinidade8':[],'afinidade9':[],'afinidade10':[]}\n",
    "colunas = ['ligante','afinidade1','afinidade2','afinidade3','afinidade4','afinidade5','afinidade6','afinidade7','afinidade8','afinidade9','afinidade10']\n",
    "sumario = pd.DataFrame(dic)\n",
    "\n",
    "for l in ligantes:\n",
    "    old_stdout = sys.stdout\n",
    "    new_stdout = io.StringIO()\n",
    "    sys.stdout = new_stdout\n",
    "    nome = 'inputs/out'+l+'MetTol1.pdbqt'\n",
    "    origem = 'SDF/'+l+'.sdf'\n",
    "    destino = 'output_vinardo/'+l+'.sdf'\n",
    "    afinidades = [l]\n",
    "    !'./smina.static' -r MetTol1.pdb -l '{origem}' -o '{destino}' --seed 0 --score_only --scoring vinardo\n",
    "    output = new_stdout.getvalue()\n",
    "    o = output.split(\"Affinity: \")\n",
    "    for p in o:\n",
    "        if p[0].isdigit() or p[0]=='-':\n",
    "            afinidades.append(float(p.split(\" (kcal\")[0]))\n",
    "    linha = pd.DataFrame(afinidades,index = colunas).transpose()\n",
    "    sumario = sumario.append(linha)\n",
    "    sys.stdout = old_stdout\n",
    "    \n",
    "sumario.to_csv('MetTol1-vinardo.csv')"
   ]
  },
  {
   "cell_type": "markdown",
   "metadata": {},
   "source": [
    "# Rescoring com a função dkoes_scoring"
   ]
  },
  {
   "cell_type": "code",
   "execution_count": 4,
   "metadata": {},
   "outputs": [],
   "source": [
    "dic = {'ligante':[],'afinidade1':[],'afinidade2':[],'afinidade3':[],'afinidade4':[],'afinidade5':[],'afinidade6':[],\n",
    "      'afinidade7':[],'afinidade8':[],'afinidade9':[],'afinidade10':[]}\n",
    "colunas = ['ligante','afinidade1','afinidade2','afinidade3','afinidade4','afinidade5','afinidade6','afinidade7','afinidade8','afinidade9','afinidade10']\n",
    "sumario = pd.DataFrame(dic)\n",
    "\n",
    "for l in ligantes:\n",
    "    old_stdout = sys.stdout\n",
    "    new_stdout = io.StringIO()\n",
    "    sys.stdout = new_stdout\n",
    "    nome = 'inputs/out'+l+'MetTol1.pdbqt'\n",
    "    origem = 'SDF/'+l+'.sdf'\n",
    "    destino = 'output_dkoes_scoring/'+l+'.sdf'\n",
    "    afinidades = [l]\n",
    "    !'./smina.static' -r MetTol1.pdb -l '{origem}' -o '{destino}' --seed 0 --score_only --scoring dkoes_scoring\n",
    "    output = new_stdout.getvalue()\n",
    "    o = output.split(\"Affinity: \")\n",
    "    for p in o:\n",
    "        if p[0].isdigit() or p[0]=='-':\n",
    "            afinidades.append(float(p.split(\" (kcal\")[0]))\n",
    "    linha = pd.DataFrame(afinidades,index = colunas).transpose()\n",
    "    sumario = sumario.append(linha)\n",
    "    sys.stdout = old_stdout\n",
    "    \n",
    "sumario.to_csv('MetTol1-dkoes_scoring.csv')"
   ]
  },
  {
   "cell_type": "code",
   "execution_count": null,
   "metadata": {},
   "outputs": [],
   "source": []
  }
 ],
 "metadata": {
  "kernelspec": {
   "display_name": "Python 3",
   "language": "python",
   "name": "python3"
  },
  "language_info": {
   "codemirror_mode": {
    "name": "ipython",
    "version": 3
   },
   "file_extension": ".py",
   "mimetype": "text/x-python",
   "name": "python",
   "nbconvert_exporter": "python",
   "pygments_lexer": "ipython3",
   "version": "3.7.11"
  }
 },
 "nbformat": 4,
 "nbformat_minor": 4
}
